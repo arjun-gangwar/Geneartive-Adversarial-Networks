{
  "nbformat": 4,
  "nbformat_minor": 0,
  "metadata": {
    "colab": {
      "name": "GAN Tutorial.ipynb",
      "provenance": [],
      "collapsed_sections": [],
      "authorship_tag": "ABX9TyO/Pb+olJQwDz+ci5Ue1cPg"
    },
    "kernelspec": {
      "name": "python3",
      "display_name": "Python 3"
    },
    "accelerator": "GPU"
  },
  "cells": [
    {
      "cell_type": "code",
      "metadata": {
        "id": "g7-tNwkOLuNZ",
        "colab_type": "code",
        "outputId": "c94feadb-b415-4809-a71c-d8dd359aef5b",
        "colab": {
          "base_uri": "https://localhost:8080/",
          "height": 306
        }
      },
      "source": [
        "#check GPU status\n",
        "gpu_info = !nvidia-smi\n",
        "gpu_info = '\\n'.join(gpu_info)\n",
        "if gpu_info.find('failed') >= 0:\n",
        "  print('Select the Runtime → \"Change runtime type\" menu to enable a GPU accelerator, ')\n",
        "  print('and then re-execute this cell.')\n",
        "else:\n",
        "  print(gpu_info)"
      ],
      "execution_count": 1,
      "outputs": [
        {
          "output_type": "stream",
          "text": [
            "Wed May  6 19:44:33 2020       \n",
            "+-----------------------------------------------------------------------------+\n",
            "| NVIDIA-SMI 440.82       Driver Version: 418.67       CUDA Version: 10.1     |\n",
            "|-------------------------------+----------------------+----------------------+\n",
            "| GPU  Name        Persistence-M| Bus-Id        Disp.A | Volatile Uncorr. ECC |\n",
            "| Fan  Temp  Perf  Pwr:Usage/Cap|         Memory-Usage | GPU-Util  Compute M. |\n",
            "|===============================+======================+======================|\n",
            "|   0  Tesla P100-PCIE...  Off  | 00000000:00:04.0 Off |                    0 |\n",
            "| N/A   33C    P0    26W / 250W |      0MiB / 16280MiB |      0%      Default |\n",
            "+-------------------------------+----------------------+----------------------+\n",
            "                                                                               \n",
            "+-----------------------------------------------------------------------------+\n",
            "| Processes:                                                       GPU Memory |\n",
            "|  GPU       PID   Type   Process name                             Usage      |\n",
            "|=============================================================================|\n",
            "|  No running processes found                                                 |\n",
            "+-----------------------------------------------------------------------------+\n"
          ],
          "name": "stdout"
        }
      ]
    },
    {
      "cell_type": "code",
      "metadata": {
        "id": "gHr59AEzKr1_",
        "colab_type": "code",
        "colab": {}
      },
      "source": [
        "import numpy as np\n",
        "import matplotlib.pyplot as plt\n",
        "import os\n",
        "import tensorflow as tf\n",
        "from tensorflow.keras import models, layers\n",
        "%matplotlib inline"
      ],
      "execution_count": 0,
      "outputs": []
    },
    {
      "cell_type": "code",
      "metadata": {
        "id": "OBBsmBA0Gqv2",
        "colab_type": "code",
        "colab": {}
      },
      "source": [
        "#simple monomial function\n",
        "def calculate(x):\n",
        "  return x*x*x"
      ],
      "execution_count": 0,
      "outputs": []
    },
    {
      "cell_type": "code",
      "metadata": {
        "id": "MNsQh8DwLqmS",
        "colab_type": "code",
        "outputId": "91d8a102-9307-43ad-8956-53e7b48c195c",
        "colab": {
          "base_uri": "https://localhost:8080/",
          "height": 34
        }
      },
      "source": [
        "inputs = [round(x,1) for x in np.arange(-0.5,0.6,0.1)]\n",
        "print(inputs)"
      ],
      "execution_count": 5,
      "outputs": [
        {
          "output_type": "stream",
          "text": [
            "[-0.5, -0.4, -0.3, -0.2, -0.1, -0.0, 0.1, 0.2, 0.3, 0.4, 0.5]\n"
          ],
          "name": "stdout"
        }
      ]
    },
    {
      "cell_type": "code",
      "metadata": {
        "id": "4IFCdXhVG14-",
        "colab_type": "code",
        "outputId": "ad35f8ba-3a5a-4b35-9db8-3b01ab9c9cc4",
        "colab": {
          "base_uri": "https://localhost:8080/",
          "height": 54
        }
      },
      "source": [
        "outputs = [calculate(x) for x in inputs]\n",
        "print(outputs)"
      ],
      "execution_count": 6,
      "outputs": [
        {
          "output_type": "stream",
          "text": [
            "[-0.125, -0.06400000000000002, -0.027, -0.008000000000000002, -0.0010000000000000002, -0.0, 0.0010000000000000002, 0.008000000000000002, 0.027, 0.06400000000000002, 0.125]\n"
          ],
          "name": "stdout"
        }
      ]
    },
    {
      "cell_type": "code",
      "metadata": {
        "id": "LFMbnxEdG-gE",
        "colab_type": "code",
        "outputId": "55addc27-e4d9-46c3-c76d-e82c66dda78f",
        "colab": {
          "base_uri": "https://localhost:8080/",
          "height": 282
        }
      },
      "source": [
        "plt.plot(inputs, outputs)"
      ],
      "execution_count": 7,
      "outputs": [
        {
          "output_type": "execute_result",
          "data": {
            "text/plain": [
              "[<matplotlib.lines.Line2D at 0x7f0d27e7b3c8>]"
            ]
          },
          "metadata": {
            "tags": []
          },
          "execution_count": 7
        },
        {
          "output_type": "display_data",
          "data": {
            "image/png": "[encoded data removed]",
            "text/plain": [
              "<Figure size 432x288 with 1 Axes>"
            ]
          },
          "metadata": {
            "tags": [],
            "needs_background": "light"
          }
        }
      ]
    },
    {
      "cell_type": "code",
      "metadata": {
        "id": "_ZCRnZf-HQUv",
        "colab_type": "code",
        "colab": {}
      },
      "source": [
        "#example generation of samples\n",
        "def generate_sample(n=100):\n",
        "  x = np.random.rand(n) - 0.5\n",
        "  y = calculate(x)\n",
        "  x = x.reshape((n,1))\n",
        "  y = y.reshape((n,1))\n",
        "  return np.hstack((x,y))"
      ],
      "execution_count": 0,
      "outputs": []
    },
    {
      "cell_type": "code",
      "metadata": {
        "id": "WHJ4_wK7I5yL",
        "colab_type": "code",
        "outputId": "3451590a-a14d-48c5-deb0-cf853bc30b44",
        "colab": {
          "base_uri": "https://localhost:8080/",
          "height": 282
        }
      },
      "source": [
        "data = generate_sample()\n",
        "plt.scatter(data[:,0], data[:,1])"
      ],
      "execution_count": 9,
      "outputs": [
        {
          "output_type": "execute_result",
          "data": {
            "text/plain": [
              "<matplotlib.collections.PathCollection at 0x7f0d279df390>"
            ]
          },
          "metadata": {
            "tags": []
          },
          "execution_count": 9
        },
        {
          "output_type": "display_data",
          "data": {
            "image/png": "[encoded data removed]",
            "text/plain": [
              "<Figure size 432x288 with 1 Axes>"
            ]
          },
          "metadata": {
            "tags": [],
            "needs_background": "light"
          }
        }
      ]
    },
    {
      "cell_type": "code",
      "metadata": {
        "id": "0KDIULZdJsFz",
        "colab_type": "code",
        "colab": {}
      },
      "source": [
        "#define the discriminator\n",
        "def define_discriminator(n_inputs=2):\n",
        "  model = tf.keras.Sequential()\n",
        "  model.add(layers.Dense(25, activation='relu', kernel_initializer='he_uniform', \n",
        "                         input_dim=n_inputs))\n",
        "  model.add(layers.Dense(1, activation='sigmoid'))\n",
        "  model.compile(loss='binary_crossentropy', optimizer='adam', metrics=['accuracy'])\n",
        "  return model"
      ],
      "execution_count": 0,
      "outputs": []
    },
    {
      "cell_type": "code",
      "metadata": {
        "id": "Z0Q1NGIXKSIe",
        "colab_type": "code",
        "outputId": "7e6be916-c803-4fad-971a-ff8a4b8eb129",
        "colab": {
          "base_uri": "https://localhost:8080/",
          "height": 221
        }
      },
      "source": [
        "model = define_discriminator()\n",
        "model.summary()"
      ],
      "execution_count": 13,
      "outputs": [
        {
          "output_type": "stream",
          "text": [
            "Model: \"sequential\"\n",
            "_________________________________________________________________\n",
            "Layer (type)                 Output Shape              Param #   \n",
            "=================================================================\n",
            "dense (Dense)                (None, 25)                75        \n",
            "_________________________________________________________________\n",
            "dense_1 (Dense)              (None, 1)                 26        \n",
            "=================================================================\n",
            "Total params: 101\n",
            "Trainable params: 101\n",
            "Non-trainable params: 0\n",
            "_________________________________________________________________\n"
          ],
          "name": "stdout"
        }
      ]
    },
    {
      "cell_type": "code",
      "metadata": {
        "id": "BFamugJWP7SL",
        "colab_type": "code",
        "outputId": "b9796cc8-8aac-4f6b-f03d-3e513ad36c31",
        "colab": {
          "base_uri": "https://localhost:8080/",
          "height": 312
        }
      },
      "source": [
        "from tensorflow.keras.utils import plot_model\n",
        "plot_model(model, to_file='discriminator_plot.png', show_shapes=True, show_layer_names=True)"
      ],
      "execution_count": 14,
      "outputs": [
        {
          "output_type": "execute_result",
          "data": {
            "image/png": "[encoded data removed]",
            "text/plain": [
              "<IPython.core.display.Image object>"
            ]
          },
          "metadata": {
            "tags": []
          },
          "execution_count": 14
        }
      ]
    },
    {
      "cell_type": "code",
      "metadata": {
        "id": "T5aEzuWZQYBA",
        "colab_type": "code",
        "colab": {}
      },
      "source": [
        "def generate_real_samples(n=100):\n",
        "  x1 = np.random.rand(n) - 0.5\n",
        "  x2 = calculate(x1)\n",
        "  x1 = x1.reshape((n,1))\n",
        "  x2 = x2.reshape((n,1))\n",
        "  X = np.hstack((x1,x2))\n",
        "  y = np.ones((n,1))\n",
        "  return X, y"
      ],
      "execution_count": 0,
      "outputs": []
    },
    {
      "cell_type": "code",
      "metadata": {
        "id": "REtq5TlWZK4F",
        "colab_type": "code",
        "colab": {}
      },
      "source": [
        "def train_discriminator(model, n_epochs=1000, n_batch=128):\n",
        "  half_batch = int(n_batch / 2)\n",
        "  for i in range(n_epochs):\n",
        "    X_real, y_real = generate_real_samples(half_batch)\n",
        "    model.train_on_batch(X_real, y_real)\n",
        "    X_fake, y_fake = generate_fake_samples(half_batch)\n",
        "    model.train_on_batch(X_fake, y_fake)\n",
        "    _, acc_real = model.evaluate(X_real, y_real, verbose=0)\n",
        "    _, acc_fake = model.evaluate(X_fake, y_fake, verbose=0)\n",
        "    print(i, acc_real, acc_fake)"
      ],
      "execution_count": 0,
      "outputs": []
    },
    {
      "cell_type": "code",
      "metadata": {
        "id": "C_mQFB6Ua0pp",
        "colab_type": "code",
        "colab": {}
      },
      "source": [
        "def define_generator(latent_dims=5, n_outputs=2):\n",
        "  model = tf.keras.Sequential()\n",
        "  model.add(layers.Dense(15, activation='relu', kernel_initializer='he_uniform',\n",
        "                         input_dim=latent_dims))\n",
        "  model.add(layers.Dense(n_outputs, activation='linear'))\n",
        "  return model"
      ],
      "execution_count": 0,
      "outputs": []
    },
    {
      "cell_type": "code",
      "metadata": {
        "id": "Oz3JeEDHkS4O",
        "colab_type": "code",
        "outputId": "ef63b851-fffd-4788-b39e-154db6d20a35",
        "colab": {
          "base_uri": "https://localhost:8080/",
          "height": 516
        }
      },
      "source": [
        "model = define_generator(5)\n",
        "model.summary()\n",
        "plot_model(model, to_file='generator_plot.png', show_shapes=True, show_layer_names=True)"
      ],
      "execution_count": 20,
      "outputs": [
        {
          "output_type": "stream",
          "text": [
            "Model: \"sequential_2\"\n",
            "_________________________________________________________________\n",
            "Layer (type)                 Output Shape              Param #   \n",
            "=================================================================\n",
            "dense_4 (Dense)              (None, 15)                90        \n",
            "_________________________________________________________________\n",
            "dense_5 (Dense)              (None, 2)                 32        \n",
            "=================================================================\n",
            "Total params: 122\n",
            "Trainable params: 122\n",
            "Non-trainable params: 0\n",
            "_________________________________________________________________\n"
          ],
          "name": "stdout"
        },
        {
          "output_type": "execute_result",
          "data": {
            "image/png": "[encoded data removed]",
            "text/plain": [
              "<IPython.core.display.Image object>"
            ]
          },
          "metadata": {
            "tags": []
          },
          "execution_count": 20
        }
      ]
    },
    {
      "cell_type": "code",
      "metadata": {
        "id": "bmmI_06MkZZe",
        "colab_type": "code",
        "colab": {}
      },
      "source": [
        "def generate_latent_points(latent_dims, n):\n",
        "  x = np.random.randn(latent_dims*n)\n",
        "  x = x.reshape((n, latent_dims))\n",
        "  return x"
      ],
      "execution_count": 0,
      "outputs": []
    },
    {
      "cell_type": "code",
      "metadata": {
        "id": "NgZOvFj3lmIZ",
        "colab_type": "code",
        "colab": {}
      },
      "source": [
        "def generate_fake_samples(generator, latent_dim, n):\n",
        "  x_input = generate_latent_points(latent_dim, n)\n",
        "  X = generator.predict(x_input)\n",
        "  y = np.zeros((n, 1))\n",
        "  return X, y"
      ],
      "execution_count": 0,
      "outputs": []
    },
    {
      "cell_type": "code",
      "metadata": {
        "id": "6OhlC4sJm3G7",
        "colab_type": "code",
        "colab": {}
      },
      "source": [
        "def define_gan(generator, discriminator):\n",
        "  discriminator.trainable = False\n",
        "  model = tf.keras.Sequential()\n",
        "  model.add(generator)\n",
        "  model.add(discriminator)\n",
        "  model.compile(loss='binary_crossentropy' ,optimizer='adam')\n",
        "  return model"
      ],
      "execution_count": 0,
      "outputs": []
    },
    {
      "cell_type": "code",
      "metadata": {
        "id": "4NPoWqRToYKB",
        "colab_type": "code",
        "outputId": "67316704-2211-4728-cdaa-6f44d4654783",
        "colab": {
          "base_uri": "https://localhost:8080/",
          "height": 516
        }
      },
      "source": [
        "latent_dim = 5\n",
        "discriminator = define_discriminator()\n",
        "generator = define_generator(latent_dim)\n",
        "gan_model = define_gan(generator, discriminator)\n",
        "gan_model.summary()\n",
        "plot_model(gan_model, to_file='gan_plot.png', show_shapes=True, show_layer_names=True)"
      ],
      "execution_count": 24,
      "outputs": [
        {
          "output_type": "stream",
          "text": [
            "Model: \"sequential_5\"\n",
            "_________________________________________________________________\n",
            "Layer (type)                 Output Shape              Param #   \n",
            "=================================================================\n",
            "sequential_4 (Sequential)    (None, 2)                 122       \n",
            "_________________________________________________________________\n",
            "sequential_3 (Sequential)    (None, 1)                 101       \n",
            "=================================================================\n",
            "Total params: 223\n",
            "Trainable params: 122\n",
            "Non-trainable params: 101\n",
            "_________________________________________________________________\n"
          ],
          "name": "stdout"
        },
        {
          "output_type": "execute_result",
          "data": {
            "image/png": "[encoded data removed]",
            "text/plain": [
              "<IPython.core.display.Image object>"
            ]
          },
          "metadata": {
            "tags": []
          },
          "execution_count": 24
        }
      ]
    },
    {
      "cell_type": "code",
      "metadata": {
        "id": "FR2S8pxqIuZc",
        "colab_type": "code",
        "colab": {}
      },
      "source": [
        "def summarize_performance(epoch, generator, discriminator, latent_dim, n=100):\n",
        "  x_real, y_real = generate_real_samples(n)\n",
        "  _, acc_real = discriminator.evaluate(x_real, y_real, verbose=0)\n",
        "\n",
        "  x_fake, y_fake = generate_fake_samples(generator, latent_dim, n)\n",
        "  _, acc_fake = discriminator.evaluate(x_fake, y_fake, verbose=0)\n",
        "  \n",
        "  print(epoch, acc_real, acc_fake)\n",
        "\n",
        "  plt.scatter(x_real[:, 0], x_real[:, 1], color='red')\n",
        "  plt.scatter(x_fake[:, 0], x_fake[:, 1], color='blue')\n",
        "\n",
        "  filename = '/content/generated_plot_e%03d.png' % (epoch+1) \n",
        "  plt.savefig(filename)\n",
        "  plt.close()"
      ],
      "execution_count": 0,
      "outputs": []
    },
    {
      "cell_type": "code",
      "metadata": {
        "id": "0-eZjqmhoyfE",
        "colab_type": "code",
        "colab": {}
      },
      "source": [
        "def train(g_model, d_model, gan_model, latent_dim, n_epochs=10000, n_batch=128, n_eval=2000):\n",
        "\n",
        "  half_batch = int(n_batch/2)\n",
        "\n",
        "  for i in range(n_epochs):\n",
        "    x_real, y_real = generate_real_samples(half_batch)\n",
        "    x_fake, y_fake = generate_fake_samples(g_model, latent_dim, half_batch)\n",
        "    \n",
        "    d_model.train_on_batch(x_real, y_real)\n",
        "    d_model.train_on_batch(x_fake, y_fake)\n",
        "\n",
        "    x_gan = generate_latent_points(latent_dim, n_batch)\n",
        "    y_gan = np.ones((n_batch,1))\n",
        "\n",
        "    gan_model.train_on_batch(x_gan, y_gan)\n",
        "\n",
        "    if (i+1) % n_eval == 0:\n",
        "      summarize_performance(i, g_model, d_model, latent_dim)\n"
      ],
      "execution_count": 0,
      "outputs": []
    },
    {
      "cell_type": "code",
      "metadata": {
        "id": "1kq0HmZB6Jme",
        "colab_type": "code",
        "outputId": "ed2f8c32-af7c-4c60-cbef-db039db18bd5",
        "colab": {
          "base_uri": "https://localhost:8080/",
          "height": 867
        }
      },
      "source": [
        "latent_dim = 5\n",
        "discriminator = define_discriminator()\n",
        "generator = define_generator(latent_dim)\n",
        "gan_model = define_gan(generator, discriminator)\n",
        "train(generator, discriminator, gan_model, latent_dim, n_eval=200)"
      ],
      "execution_count": 27,
      "outputs": [
        {
          "output_type": "stream",
          "text": [
            "199 0.6299999952316284 0.800000011920929\n",
            "399 0.5299999713897705 0.6600000262260437\n",
            "599 0.7200000286102295 0.20000000298023224\n",
            "799 0.9900000095367432 0.27000001072883606\n",
            "999 1.0 0.1899999976158142\n",
            "1199 0.75 0.28999999165534973\n",
            "1399 0.6700000166893005 0.47999998927116394\n",
            "1599 0.6100000143051147 0.47999998927116394\n",
            "1799 0.44999998807907104 0.6700000166893005\n",
            "1999 0.5 0.5899999737739563\n",
            "2199 0.550000011920929 0.41999998688697815\n",
            "2399 0.4099999964237213 0.5299999713897705\n",
            "2599 0.28999999165534973 0.6299999952316284\n",
            "2799 0.4399999976158142 0.5699999928474426\n",
            "2999 0.5799999833106995 0.5199999809265137\n",
            "3199 0.5299999713897705 0.5899999737739563\n",
            "3399 0.4399999976158142 0.6800000071525574\n",
            "3599 0.4000000059604645 0.9900000095367432\n",
            "3799 0.47999998927116394 0.05000000074505806\n",
            "3999 0.3400000035762787 0.2199999988079071\n",
            "4199 0.3799999952316284 0.9800000190734863\n",
            "4399 0.5199999809265137 0.3799999952316284\n",
            "4599 0.6100000143051147 0.4300000071525574\n",
            "4799 0.07999999821186066 0.9900000095367432\n",
            "4999 0.9100000262260437 0.09000000357627869\n",
            "5199 0.4000000059604645 0.5699999928474426\n",
            "5399 0.6399999856948853 0.41999998688697815\n",
            "5599 0.7400000095367432 0.07000000029802322\n",
            "5799 0.38999998569488525 1.0\n",
            "5999 0.6000000238418579 0.5199999809265137\n",
            "6199 0.3400000035762787 0.6000000238418579\n",
            "6399 0.0 1.0\n",
            "6599 0.1899999976158142 0.9200000166893005\n",
            "6799 0.6200000047683716 0.4699999988079071\n",
            "6999 0.5199999809265137 0.3199999928474426\n",
            "7199 0.1899999976158142 0.5600000023841858\n",
            "7399 0.6200000047683716 0.1899999976158142\n",
            "7599 0.550000011920929 0.8100000023841858\n",
            "7799 0.47999998927116394 0.3100000023841858\n",
            "7999 0.07000000029802322 0.9599999785423279\n",
            "8199 0.550000011920929 0.7400000095367432\n",
            "8399 0.23999999463558197 0.5899999737739563\n",
            "8599 0.5799999833106995 0.41999998688697815\n",
            "8799 0.46000000834465027 0.6100000143051147\n",
            "8999 0.2800000011920929 0.5899999737739563\n",
            "9199 0.30000001192092896 0.4099999964237213\n",
            "9399 0.3400000035762787 0.3700000047683716\n",
            "9599 0.5299999713897705 0.5199999809265137\n",
            "9799 0.23000000417232513 0.30000001192092896\n",
            "9999 0.6299999952316284 0.5099999904632568\n"
          ],
          "name": "stdout"
        }
      ]
    },
    {
      "cell_type": "code",
      "metadata": {
        "id": "pGWAMlmtM8FC",
        "colab_type": "code",
        "colab": {}
      },
      "source": [
        ""
      ],
      "execution_count": 0,
      "outputs": []
    }
  ]
}